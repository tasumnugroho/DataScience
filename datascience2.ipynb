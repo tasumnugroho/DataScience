Mengelompokkan Data
Pada materi sebelumnya, kita telah mempelajari berbagai method dari library pandas yang dapat digunakan untuk mengeksplorasi parameter statistik dari sebuah data secara efisien dan scalable. Nah, untuk melengkapi toolbox Anda dalam mengeksplorasi data, pada materi kali ini akan dibahas berbagai hal terkait pengelompokan data.

Mungkin beberapa dari Anda cukup familier dengan konsep pivot table dalam aplikasi pengolahan data seperti Microsoft Excel atau Google Sheets. Ia merupakan tool yang dapat digunakan untuk mengelompokkan data berdasarkan parameter tertentu.

dos:d26f1dff38ca980dbf338bf78461cc1c20230310091451.png

Pada proses analisis data, kita bisa menggunakan konsep pivot table ini untuk menghitung parameter statistik dari kelompok data tertentu. Selain itu, ia juga dapat digunakan untuk kebutuhan visualisasi data dan pembuatan report. Hal inilah yang membuat pengetahuan tentang pivot table menjadi sangat penting bagi para praktisi data. Namun, perlu diingat  bahwa di industri kita harus selalu mementingkan efisiensi dan scalability dari setiap tahapan analisis data yang dilakukan termasuk pembuatan pivot table. Oleh karena itu, pada materi kali ini, kita akan belajar cara membuat pivot table secara efisien dan scalable.

Akan tetapi, sebelum kita membahas hal tersebut, alangkah baiknya jika kita membahas prosesnya terlebih dahulu.

Untuk memahami proses pembuatan pivot table, Anda perlu mengenal dua istilah di bawah ini telebih dahulu.

Key: kolom yang berisi data kategorik dan digunakan untuk mengelompokkan data.
Value: kolom yang berisi data kuantitatif dan akan dihitung nilai parameter statistiknya.
Proses pembuatan pivot table, diawali dengan melakukan split atau proses pengelompokkan pasangan key-values. Tahap berikutnya adalah proses apply atau perhitungan parameter dari setiap kelompok pasangan key-value. Tahap terakhir ialah menggabungkan (combine) seluruh key dengan nilai parameternya ke dalam satu tabel. Tara…, jadilah sebuah pivot table yang akan membantu kita dalam memahami sebuah data.

dos:338f6e3156b20291a22a6c889db5971620230310091500.png

Nah, setelah mengetahui proses dalam pembuatan pivot table, sekarang saatnya kita belajar cara membuat pivot table secara efisien dan scalable. Seperti biasa, kita akan menggunakan library pandas untuk melakukannya.

Library pandas telah menyediakan sebuah method bernama groupby() yang dapat membantu kita dalam membuat pivot table secara lebih efisien dan scalable. Method ini akan menerima inputan beberapa parameter salah satunya ialah “by”. Parameter tersebut digunakan untuk menentukan key dari pivot table tersebut. Selain itu, untuk menggunakan method ini, kita perlu memadukannya dengan berbagai method untuk menghitung parameter statistik, seperti mean(), mode(), dll. Berikut contoh kode untuk menggunakan method groupby(). 

Import pandas as pd
 
body_measurement_df = pd.DataFrame.from_records((
  (2, 83.82, 8.4),
  (4, 99.31, 16.97),
  (3, 96.52, 14.41),
  (6, 114.3, 20.14),
  (4, 101.6, 16.91),
  (2, 86.36, 12.64),
  (3, 92.71, 14.23),
  (2, 85.09, 11.11),
  (2, 85.85, 14.18),
  (5, 106.68, 20.01),
  (4, 99.06, 13.17),
  (5, 109.22, 15.36),
  (4, 100.84, 14.78),
  (6, 115.06, 20.06),
  (2, 84.07, 10.02),
  (7, 121.67, 28.4),
  (3, 94.49, 14.05),
  (6, 116.59, 17.55),
  (7, 121.92, 22.96),
), columns=("age", "height_cm", "weight_kg"))
 
body_measurement_df.groupby(by="age").mean()
Berikut tampilan pivot table yang dihasilkan dari kode di atas.

dos:4170e63e241db736589d26c9b09c614520230309103016.jpeg

Ketika melihat hasil di atas, mungkin Anda bertanya “bagaimana jika kita ingin membuat pivot table dengan lebih dari satu parameter?” Untuk menjawab tantangan ini, kita bisa menggunakan method agg(). Ia memungkinkan kita untuk menentukan beberapa parameter yang ingin digunakan dalam pivot table. Berikut merupakan contoh kode untuk menggunakan method agg().

body_measurement_df.groupby(by='age').agg({
    'height_cm': 'mean',
    'weight_kg': ['mean','max', 'min'],
})
Contoh kode tersebut akan menghasilkan pivot table seperti berikut.

dos:02d5567d48bab5fc3baaf4f2fd3ed71020230309103016.jpeg

Nah, itulah segenap pembahasan terkait pengelompokkan data atau pembuatan pivot table menggunakan method groupby().  Jika Anda ingin membaca lebih detail terkait method tersebut, silakan kunjungi tautan berikut: GroupBy documentation.

Pada materi berikutnya, kita akan belajar menerapkan berbagai teori yang telah dipelajari sejauh ini melalui sebuah proyek latihan analisis sederhana. So, tanpa berlama-lama lagi. Mari kita lanjut ke materi berikutnya!
